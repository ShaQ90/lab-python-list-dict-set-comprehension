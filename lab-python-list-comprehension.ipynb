{
 "cells": [
  {
   "cell_type": "markdown",
   "id": "25d7736c-ba17-4aff-b6bb-66eba20fbf4e",
   "metadata": {},
   "source": [
    "# Lab | List, Dict and Set Comprehension"
   ]
  },
  {
   "cell_type": "markdown",
   "id": "7dd3cbde-675a-4b81-92c3-f728846dbe06",
   "metadata": {},
   "source": [
    "## Exercise: Managing Customer Orders Optimized with Comprehension"
   ]
  },
  {
   "cell_type": "markdown",
   "id": "5d500160-2fb7-4777-b5e4-09d45ebaf328",
   "metadata": {},
   "source": [
    "In the previous exercise, you developed a program to manage customer orders and inventory. Now, let's take it a step further and incorporate comprehension into your code.\n",
    "\n",
    "Follow the steps below to complete the exercise:\n",
    "\n",
    "1. Review your code from the previous exercise and identify areas where you can apply comprehension to simplify and streamline your code. \n",
    "\n",
    "    - *Hint: Apply it to initialize inventory, updating the inventory and printing the updated inventory.*\n",
    "    \n",
    "    - For example, in initializing the inventory, we could have:\n",
    "    \n",
    "        ```python\n",
    "        def initialize_inventory(products):\n",
    "            inventory = {product: int(input(f\"Enter the quantity of {product}s available: \")) for product in products}\n",
    "            return inventory\n",
    "\n",
    "        ```\n",
    "<br>\n",
    "    \n",
    "    \n",
    "2. Modify the function get_customer_orders so it prompts the user to enter the number of customer orders and gathers the product names using a loop and user input. Use comprehension.\n",
    "\n",
    "3. Add a new function to calculate the total price of the customer order. For each product in customer_orders, prompt the user to enter the price of that product. Use comprehension to calculate the total price. Note: assume that the user can only have 1 unit of each product.\n",
    "\n",
    "4. Modify the update_inventory function to remove the product from the inventory if its quantity becomes zero after fulfilling the customer orders. Use comprehension to filter out the products with a quantity of zero from the inventory.\n",
    "\n",
    "5. Print the total price of the customer order.\n",
    "\n",
    "Your code should produce output similar to the following:\n",
    "\n",
    "```python\n",
    "Enter the quantity of t-shirts available:  5\n",
    "Enter the quantity of mugs available:  4\n",
    "Enter the quantity of hats available:  3\n",
    "Enter the quantity of books available:  2\n",
    "Enter the quantity of keychains available:  1\n",
    "Enter the number of customer orders:  2\n",
    "Enter the name of a product that a customer wants to order:  hat\n",
    "Enter the name of a product that a customer wants to order:  keychain\n",
    "\n",
    "Order Statistics:\n",
    "Total Products Ordered: 2\n",
    "Percentage of Unique Products Ordered: 40.0\n",
    "\n",
    "Updated Inventory:\n",
    "t-shirt: 5\n",
    "mug: 4\n",
    "hat: 2\n",
    "book: 2\n",
    "Enter the price of keychain:  5\n",
    "Enter the price of hat:  10\n",
    "Total Price: 15.0\n",
    "\n",
    "```\n"
   ]
  },
  {
   "cell_type": "code",
   "execution_count": 2,
   "id": "6b0cf146-218a-43ff-ade6-531eb3d6382c",
   "metadata": {},
   "outputs": [],
   "source": [
    "#1\n",
    "products = [\"t-shirt\", \"mug\", \"hat\", \"book\", \"keychain\"]\n",
    "inventory = {}\n",
    "\n",
    "def check_if_int(prompt):\n",
    "    data=\"\"\n",
    "    while not data.isdigit():\n",
    "        data = input(prompt)\n",
    "        if not data.isdigit():\n",
    "            print(\"Please insert a integer number\")\n",
    "        else:\n",
    "            return int(data)\n",
    "\n",
    "def check_if_float(prompt):\n",
    "    data=\"\"\n",
    "    while not isinstance(data, float):\n",
    "        data = input(prompt)\n",
    "        try:\n",
    "            data = float(data)\n",
    "        except ValueError:\n",
    "            print(\"Please insert a float number\")\n",
    "    return data\n",
    "\n",
    "def initialize_inventory(items: list):\n",
    "    stock = {product:check_if_int(\"Enter the quantity of \"+product+\"s available\") for product in items}     \n",
    "    return stock\n",
    "    "
   ]
  },
  {
   "cell_type": "code",
   "execution_count": 4,
   "id": "04f90095-7470-4a1c-8e73-66e4da608885",
   "metadata": {},
   "outputs": [],
   "source": [
    "#2          \n",
    "def get_customer_orders():\n",
    "    num_order = check_if_int(\"Enter the number of customer orders:\")\n",
    "    costumer_orders = [ input(\"Enter the name of a product that a customer wants to order:\").lower() for x in range(num_order)]\n",
    "        \n",
    "    return set(costumer_orders)"
   ]
  },
  {
   "cell_type": "code",
   "execution_count": 6,
   "id": "ab6557d4-dab3-4206-9544-52bec66c157a",
   "metadata": {},
   "outputs": [],
   "source": [
    "#3\n",
    "def update_inventory(costumer_orders, stock):\n",
    "    list_products = list(stock.keys())\n",
    "    for order in costumer_orders:\n",
    "\n",
    "        if order in list_products:\n",
    "            if stock[order] > 0:\n",
    "                stock[order] -=1\n",
    "            else:\n",
    "                print(f\"Product {order} out of stock\")\n",
    "        else:\n",
    "              print(f\"Product {order} doesnt exist\")\n",
    "    stock = {item:stock[item] for item in stock if not (stock[item] == 0) }\n",
    "            \n",
    "    return stock        \n"
   ]
  },
  {
   "cell_type": "code",
   "execution_count": 8,
   "id": "17821269-c8a4-4994-93ea-4c79c306ff11",
   "metadata": {},
   "outputs": [],
   "source": [
    "#4\n",
    "def calculate_order_statistics(costumer_orders,products):\n",
    "    total = 0\n",
    "    for order in costumer_orders:\n",
    "        total +=1\n",
    "    percent = total/len(products)*100\n",
    "    return total,percent\n"
   ]
  },
  {
   "cell_type": "code",
   "execution_count": 10,
   "id": "edd65895-c098-43a2-b6cf-375e06abfcce",
   "metadata": {},
   "outputs": [],
   "source": [
    "#5\n",
    "def print_order_statistics(order_statistics):\n",
    "    print(f\"Total Products Ordered: {order_statistics[0]},\\nPercentage of Unique Products Ordered: {order_statistics[1]}%\")\n"
   ]
  },
  {
   "cell_type": "code",
   "execution_count": 12,
   "id": "ba06d254-bb21-44e0-92a4-ce530ba9e12d",
   "metadata": {},
   "outputs": [],
   "source": [
    "\n",
    "#6 \n",
    "def print_updated_inventory(inventory):\n",
    "    { (print(f\"{product}:{inventory[product]}\")) for product in inventory}"
   ]
  },
  {
   "cell_type": "code",
   "execution_count": 14,
   "id": "7b2a7ef3-4e28-4610-b0c8-cb05563fd0e5",
   "metadata": {},
   "outputs": [],
   "source": [
    "#dict and func lab point 3\n",
    "\n",
    "\n",
    "def calculate_total_price (costumer_orders):\n",
    "    price_table = {item: check_if_float(\"Enter the price of \"+item+\":\") for item in costumer_orders}\n",
    "    total = sum([float(prices) for prices in price_table.values()])\n",
    "    print(f\"The total price is {total}€\")"
   ]
  },
  {
   "cell_type": "code",
   "execution_count": 16,
   "id": "16b9aa6e-ce5b-4aef-97ab-b31064f978a7",
   "metadata": {},
   "outputs": [
    {
     "name": "stdin",
     "output_type": "stream",
     "text": [
      "Enter the quantity of t-shirts available 5\n",
      "Enter the quantity of mugs available 4\n",
      "Enter the quantity of hats available 3\n",
      "Enter the quantity of books available 2\n",
      "Enter the quantity of keychains available 1\n",
      "Enter the number of customer orders: 2\n",
      "Enter the name of a product that a customer wants to order: hat\n",
      "Enter the name of a product that a customer wants to order: keychain\n"
     ]
    },
    {
     "name": "stdout",
     "output_type": "stream",
     "text": [
      "\n",
      "Order Statistics:\n",
      "Total Products Ordered: 2,\n",
      "Percentage of Unique Products Ordered: 40.0%\n",
      "\n",
      "Updated Inventory:\n",
      "t-shirt:5\n",
      "mug:4\n",
      "hat:2\n",
      "book:2\n"
     ]
    },
    {
     "name": "stdin",
     "output_type": "stream",
     "text": [
      "Enter the price of hat: 5\n",
      "Enter the price of keychain: 10\n"
     ]
    },
    {
     "name": "stdout",
     "output_type": "stream",
     "text": [
      "The total price is 15.0€\n"
     ]
    }
   ],
   "source": [
    "#Code structure\n",
    "\n",
    "\n",
    "inventory = initialize_inventory(products)\n",
    "user_order = get_customer_orders()\n",
    "inventory = update_inventory(user_order,inventory)\n",
    "print(\"\\nOrder Statistics:\")\n",
    "statistics = calculate_order_statistics(user_order,products)\n",
    "print_order_statistics(statistics)\n",
    "print(\"\\nUpdated Inventory:\")\n",
    "print_updated_inventory(inventory)\n",
    "calculate_total_price(user_order)"
   ]
  },
  {
   "cell_type": "code",
   "execution_count": null,
   "id": "88168e49-8566-4909-bec5-6f353c8e2f74",
   "metadata": {},
   "outputs": [],
   "source": []
  }
 ],
 "metadata": {
  "kernelspec": {
   "display_name": "Python 3 (ipykernel)",
   "language": "python",
   "name": "python3"
  },
  "language_info": {
   "codemirror_mode": {
    "name": "ipython",
    "version": 3
   },
   "file_extension": ".py",
   "mimetype": "text/x-python",
   "name": "python",
   "nbconvert_exporter": "python",
   "pygments_lexer": "ipython3",
   "version": "3.12.4"
  }
 },
 "nbformat": 4,
 "nbformat_minor": 5
}
